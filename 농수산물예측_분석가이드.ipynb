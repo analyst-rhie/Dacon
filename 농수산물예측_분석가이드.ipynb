{
  "nbformat": 4,
  "nbformat_minor": 0,
  "metadata": {
    "colab": {
      "name": "농수산물예측_분석가이드.ipynb",
      "provenance": [],
      "mount_file_id": "1qQZ6s0bAyrTqvWI2rwB0PI3KkQLkeO8W",
      "authorship_tag": "ABX9TyPf9vrLJvu3FFMUrLFlgPxY",
      "include_colab_link": true
    },
    "kernelspec": {
      "name": "python3",
      "display_name": "Python 3"
    },
    "language_info": {
      "name": "python"
    },
    "accelerator": "GPU"
  },
  "cells": [
    {
      "cell_type": "markdown",
      "metadata": {
        "id": "view-in-github",
        "colab_type": "text"
      },
      "source": [
        "<a href=\"https://colab.research.google.com/github/analyst-rhie/Dacon/blob/main/%EB%86%8D%EC%88%98%EC%82%B0%EB%AC%BC%EC%98%88%EC%B8%A1_%EB%B6%84%EC%84%9D%EA%B0%80%EC%9D%B4%EB%93%9C.ipynb\" target=\"_parent\"><img src=\"https://colab.research.google.com/assets/colab-badge.svg\" alt=\"Open In Colab\"/></a>"
      ]
    },
    {
      "cell_type": "code",
      "metadata": {
        "id": "wB0lLk7h40yY"
      },
      "source": [
        "import pandas as pd\n",
        "import numpy as np\n",
        "import matplotlib.pyplot as plt\n",
        "from tqdm import tqdm\n",
        "import random\n",
        "import os\n",
        "\n",
        "import torch\n",
        "from torch import nn\n",
        "from torch.utils.data import Dataset, DataLoader"
      ],
      "execution_count": null,
      "outputs": []
    },
    {
      "cell_type": "markdown",
      "metadata": {
        "id": "I2VQ744Y4-Jn"
      },
      "source": [
        "* 재현을 위한 시드 고정"
      ]
    },
    {
      "cell_type": "code",
      "metadata": {
        "id": "epmHdyvX44bM"
      },
      "source": [
        "def seed_everything(seed: int = 42):\n",
        "    random.seed(seed)\n",
        "    np.random.seed(seed)\n",
        "    os.environ[\"PYTHONHASHSEED\"] = str(seed)\n",
        "    torch.manual_seed(seed)\n",
        "    torch.cuda.manual_seed(seed)  # type: ignore\n",
        "    torch.backends.cudnn.deterministic = True  # type: ignore\n",
        "    torch.backends.cudnn.benchmark = True  # type: ignore"
      ],
      "execution_count": null,
      "outputs": []
    },
    {
      "cell_type": "code",
      "metadata": {
        "id": "Uk-nQAd15EMg"
      },
      "source": [
        "seed_everything(42)"
      ],
      "execution_count": null,
      "outputs": []
    },
    {
      "cell_type": "code",
      "metadata": {
        "id": "dUKMDvis5LSk"
      },
      "source": [
        "data = pd.read_csv('/content/drive/MyDrive/Colab Notebooks/농산물/public_data/train.csv')"
      ],
      "execution_count": null,
      "outputs": []
    },
    {
      "cell_type": "code",
      "metadata": {
        "colab": {
          "base_uri": "https://localhost:8080/",
          "height": 486
        },
        "id": "tmWZOVff51Oj",
        "outputId": "00590695-97e8-485f-de0f-faff0e2a8de2"
      },
      "source": [
        "data.head()"
      ],
      "execution_count": null,
      "outputs": [
        {
          "output_type": "execute_result",
          "data": {
            "text/html": [
              "<div>\n",
              "<style scoped>\n",
              "    .dataframe tbody tr th:only-of-type {\n",
              "        vertical-align: middle;\n",
              "    }\n",
              "\n",
              "    .dataframe tbody tr th {\n",
              "        vertical-align: top;\n",
              "    }\n",
              "\n",
              "    .dataframe thead th {\n",
              "        text-align: right;\n",
              "    }\n",
              "</style>\n",
              "<table border=\"1\" class=\"dataframe\">\n",
              "  <thead>\n",
              "    <tr style=\"text-align: right;\">\n",
              "      <th></th>\n",
              "      <th>date</th>\n",
              "      <th>요일</th>\n",
              "      <th>배추_거래량(kg)</th>\n",
              "      <th>배추_가격(원/kg)</th>\n",
              "      <th>무_거래량(kg)</th>\n",
              "      <th>무_가격(원/kg)</th>\n",
              "      <th>양파_거래량(kg)</th>\n",
              "      <th>양파_가격(원/kg)</th>\n",
              "      <th>건고추_거래량(kg)</th>\n",
              "      <th>건고추_가격(원/kg)</th>\n",
              "      <th>마늘_거래량(kg)</th>\n",
              "      <th>마늘_가격(원/kg)</th>\n",
              "      <th>대파_거래량(kg)</th>\n",
              "      <th>대파_가격(원/kg)</th>\n",
              "      <th>얼갈이배추_거래량(kg)</th>\n",
              "      <th>얼갈이배추_가격(원/kg)</th>\n",
              "      <th>양배추_거래량(kg)</th>\n",
              "      <th>양배추_가격(원/kg)</th>\n",
              "      <th>깻잎_거래량(kg)</th>\n",
              "      <th>깻잎_가격(원/kg)</th>\n",
              "      <th>시금치_거래량(kg)</th>\n",
              "      <th>시금치_가격(원/kg)</th>\n",
              "      <th>미나리_거래량(kg)</th>\n",
              "      <th>미나리_가격(원/kg)</th>\n",
              "      <th>당근_거래량(kg)</th>\n",
              "      <th>당근_가격(원/kg)</th>\n",
              "      <th>파프리카_거래량(kg)</th>\n",
              "      <th>파프리카_가격(원/kg)</th>\n",
              "      <th>새송이_거래량(kg)</th>\n",
              "      <th>새송이_가격(원/kg)</th>\n",
              "      <th>팽이버섯_거래량(kg)</th>\n",
              "      <th>팽이버섯_가격(원/kg)</th>\n",
              "      <th>토마토_거래량(kg)</th>\n",
              "      <th>토마토_가격(원/kg)</th>\n",
              "      <th>청상추_거래량(kg)</th>\n",
              "      <th>청상추_가격(원/kg)</th>\n",
              "      <th>백다다기_거래량(kg)</th>\n",
              "      <th>백다다기_가격(원/kg)</th>\n",
              "      <th>애호박_거래량(kg)</th>\n",
              "      <th>애호박_가격(원/kg)</th>\n",
              "      <th>캠벨얼리_거래량(kg)</th>\n",
              "      <th>캠벨얼리_가격(원/kg)</th>\n",
              "      <th>샤인마스캇_거래량(kg)</th>\n",
              "      <th>샤인마스캇_가격(원/kg)</th>\n",
              "    </tr>\n",
              "  </thead>\n",
              "  <tbody>\n",
              "    <tr>\n",
              "      <th>0</th>\n",
              "      <td>2016-01-01</td>\n",
              "      <td>금요일</td>\n",
              "      <td>0.0</td>\n",
              "      <td>0.0</td>\n",
              "      <td>0.0</td>\n",
              "      <td>0.0</td>\n",
              "      <td>0.0</td>\n",
              "      <td>0.0</td>\n",
              "      <td>0.0</td>\n",
              "      <td>0.0</td>\n",
              "      <td>0.0</td>\n",
              "      <td>0.0</td>\n",
              "      <td>0.0</td>\n",
              "      <td>0.0</td>\n",
              "      <td>0.0</td>\n",
              "      <td>0.0</td>\n",
              "      <td>0.0</td>\n",
              "      <td>0.0</td>\n",
              "      <td>0.0</td>\n",
              "      <td>0.0</td>\n",
              "      <td>0.0</td>\n",
              "      <td>0.0</td>\n",
              "      <td>0.0</td>\n",
              "      <td>0.0</td>\n",
              "      <td>0.0</td>\n",
              "      <td>0.0</td>\n",
              "      <td>0.0</td>\n",
              "      <td>0.0</td>\n",
              "      <td>0.0</td>\n",
              "      <td>0.0</td>\n",
              "      <td>0.0</td>\n",
              "      <td>0.0</td>\n",
              "      <td>0.0</td>\n",
              "      <td>0.0</td>\n",
              "      <td>0.0</td>\n",
              "      <td>0.0</td>\n",
              "      <td>0.0</td>\n",
              "      <td>0.0</td>\n",
              "      <td>0.0</td>\n",
              "      <td>0.0</td>\n",
              "      <td>0.0</td>\n",
              "      <td>0.0</td>\n",
              "      <td>0.0</td>\n",
              "      <td>0.0</td>\n",
              "    </tr>\n",
              "    <tr>\n",
              "      <th>1</th>\n",
              "      <td>2016-01-02</td>\n",
              "      <td>토요일</td>\n",
              "      <td>80860.0</td>\n",
              "      <td>329.0</td>\n",
              "      <td>80272.0</td>\n",
              "      <td>360.0</td>\n",
              "      <td>122787.5</td>\n",
              "      <td>1281.0</td>\n",
              "      <td>3.0</td>\n",
              "      <td>11000.0</td>\n",
              "      <td>15019.0</td>\n",
              "      <td>5475.0</td>\n",
              "      <td>92334.0</td>\n",
              "      <td>1704.0</td>\n",
              "      <td>6359.0</td>\n",
              "      <td>1331.0</td>\n",
              "      <td>40028.0</td>\n",
              "      <td>348.0</td>\n",
              "      <td>4374.9</td>\n",
              "      <td>13242.0</td>\n",
              "      <td>16550.5</td>\n",
              "      <td>2339.0</td>\n",
              "      <td>10528.0</td>\n",
              "      <td>1729.0</td>\n",
              "      <td>13885.0</td>\n",
              "      <td>804.0</td>\n",
              "      <td>3853.0</td>\n",
              "      <td>3703.0</td>\n",
              "      <td>15797.0</td>\n",
              "      <td>2576.0</td>\n",
              "      <td>14634.0</td>\n",
              "      <td>1474.0</td>\n",
              "      <td>30950.0</td>\n",
              "      <td>1621.0</td>\n",
              "      <td>5125.0</td>\n",
              "      <td>9235.0</td>\n",
              "      <td>434.0</td>\n",
              "      <td>2109.0</td>\n",
              "      <td>19159.0</td>\n",
              "      <td>2414.0</td>\n",
              "      <td>880.0</td>\n",
              "      <td>2014.0</td>\n",
              "      <td>0.0</td>\n",
              "      <td>0.0</td>\n",
              "    </tr>\n",
              "    <tr>\n",
              "      <th>2</th>\n",
              "      <td>2016-01-03</td>\n",
              "      <td>일요일</td>\n",
              "      <td>0.0</td>\n",
              "      <td>0.0</td>\n",
              "      <td>0.0</td>\n",
              "      <td>0.0</td>\n",
              "      <td>0.0</td>\n",
              "      <td>0.0</td>\n",
              "      <td>0.0</td>\n",
              "      <td>0.0</td>\n",
              "      <td>0.0</td>\n",
              "      <td>0.0</td>\n",
              "      <td>0.0</td>\n",
              "      <td>0.0</td>\n",
              "      <td>0.0</td>\n",
              "      <td>0.0</td>\n",
              "      <td>0.0</td>\n",
              "      <td>0.0</td>\n",
              "      <td>0.0</td>\n",
              "      <td>0.0</td>\n",
              "      <td>0.0</td>\n",
              "      <td>0.0</td>\n",
              "      <td>0.0</td>\n",
              "      <td>0.0</td>\n",
              "      <td>0.0</td>\n",
              "      <td>0.0</td>\n",
              "      <td>0.0</td>\n",
              "      <td>0.0</td>\n",
              "      <td>0.0</td>\n",
              "      <td>0.0</td>\n",
              "      <td>0.0</td>\n",
              "      <td>0.0</td>\n",
              "      <td>0.0</td>\n",
              "      <td>0.0</td>\n",
              "      <td>0.0</td>\n",
              "      <td>0.0</td>\n",
              "      <td>0.0</td>\n",
              "      <td>0.0</td>\n",
              "      <td>0.0</td>\n",
              "      <td>0.0</td>\n",
              "      <td>0.0</td>\n",
              "      <td>0.0</td>\n",
              "      <td>0.0</td>\n",
              "      <td>0.0</td>\n",
              "    </tr>\n",
              "    <tr>\n",
              "      <th>3</th>\n",
              "      <td>2016-01-04</td>\n",
              "      <td>월요일</td>\n",
              "      <td>1422742.5</td>\n",
              "      <td>478.0</td>\n",
              "      <td>1699653.7</td>\n",
              "      <td>382.0</td>\n",
              "      <td>2315079.0</td>\n",
              "      <td>1235.0</td>\n",
              "      <td>699.0</td>\n",
              "      <td>4464.0</td>\n",
              "      <td>141638.0</td>\n",
              "      <td>5210.0</td>\n",
              "      <td>994328.1</td>\n",
              "      <td>1716.0</td>\n",
              "      <td>262615.5</td>\n",
              "      <td>1212.0</td>\n",
              "      <td>1074699.1</td>\n",
              "      <td>345.0</td>\n",
              "      <td>122613.5</td>\n",
              "      <td>9923.0</td>\n",
              "      <td>427435.1</td>\n",
              "      <td>2153.0</td>\n",
              "      <td>82113.5</td>\n",
              "      <td>3960.0</td>\n",
              "      <td>558950.2</td>\n",
              "      <td>794.0</td>\n",
              "      <td>104930.3</td>\n",
              "      <td>4871.0</td>\n",
              "      <td>277326.5</td>\n",
              "      <td>2440.0</td>\n",
              "      <td>159800.0</td>\n",
              "      <td>1750.0</td>\n",
              "      <td>291057.0</td>\n",
              "      <td>1834.0</td>\n",
              "      <td>38525.5</td>\n",
              "      <td>7631.0</td>\n",
              "      <td>500702.0</td>\n",
              "      <td>2046.0</td>\n",
              "      <td>620539.0</td>\n",
              "      <td>2018.0</td>\n",
              "      <td>2703.8</td>\n",
              "      <td>3885.0</td>\n",
              "      <td>0.0</td>\n",
              "      <td>0.0</td>\n",
              "    </tr>\n",
              "    <tr>\n",
              "      <th>4</th>\n",
              "      <td>2016-01-05</td>\n",
              "      <td>화요일</td>\n",
              "      <td>1167241.0</td>\n",
              "      <td>442.0</td>\n",
              "      <td>1423482.3</td>\n",
              "      <td>422.0</td>\n",
              "      <td>2092960.1</td>\n",
              "      <td>1213.0</td>\n",
              "      <td>1112.6</td>\n",
              "      <td>4342.0</td>\n",
              "      <td>126207.8</td>\n",
              "      <td>5387.0</td>\n",
              "      <td>787716.0</td>\n",
              "      <td>1715.0</td>\n",
              "      <td>221850.5</td>\n",
              "      <td>1197.0</td>\n",
              "      <td>825681.9</td>\n",
              "      <td>350.0</td>\n",
              "      <td>79055.9</td>\n",
              "      <td>9529.0</td>\n",
              "      <td>334636.8</td>\n",
              "      <td>2220.0</td>\n",
              "      <td>80144.0</td>\n",
              "      <td>3333.0</td>\n",
              "      <td>444353.7</td>\n",
              "      <td>763.0</td>\n",
              "      <td>100699.5</td>\n",
              "      <td>5129.0</td>\n",
              "      <td>218465.2</td>\n",
              "      <td>2437.0</td>\n",
              "      <td>153084.0</td>\n",
              "      <td>1822.0</td>\n",
              "      <td>194626.5</td>\n",
              "      <td>1833.0</td>\n",
              "      <td>32615.0</td>\n",
              "      <td>6926.0</td>\n",
              "      <td>147638.0</td>\n",
              "      <td>2268.0</td>\n",
              "      <td>231958.0</td>\n",
              "      <td>2178.0</td>\n",
              "      <td>8810.0</td>\n",
              "      <td>2853.0</td>\n",
              "      <td>0.0</td>\n",
              "      <td>0.0</td>\n",
              "    </tr>\n",
              "  </tbody>\n",
              "</table>\n",
              "</div>"
            ],
            "text/plain": [
              "         date   요일  배추_거래량(kg)  ...  캠벨얼리_가격(원/kg)  샤인마스캇_거래량(kg)  샤인마스캇_가격(원/kg)\n",
              "0  2016-01-01  금요일         0.0  ...            0.0            0.0             0.0\n",
              "1  2016-01-02  토요일     80860.0  ...         2014.0            0.0             0.0\n",
              "2  2016-01-03  일요일         0.0  ...            0.0            0.0             0.0\n",
              "3  2016-01-04  월요일   1422742.5  ...         3885.0            0.0             0.0\n",
              "4  2016-01-05  화요일   1167241.0  ...         2853.0            0.0             0.0\n",
              "\n",
              "[5 rows x 44 columns]"
            ]
          },
          "metadata": {},
          "execution_count": 5
        }
      ]
    },
    {
      "cell_type": "markdown",
      "metadata": {
        "id": "rae1igwv6Bpa"
      },
      "source": [
        "* 데이터 정규화"
      ]
    },
    {
      "cell_type": "code",
      "metadata": {
        "id": "IyieMxa46DpZ"
      },
      "source": [
        "week_day_map={} # dictionary 형태로 지정\n",
        "for i, d in enumerate(data['요일'].unique()): # 월~일까지의 유닉한 값을 범위지정\n",
        "  week_day_map[d]=i # d에는 한국어요일인 인덱스값이, i에는 한국어 요일에 해당하는 값이 들어감.\n",
        "data['요일'] = data['요일'].map(week_day_map) # map으로 dit, value값만을 data['요일']에 삽입"
      ],
      "execution_count": null,
      "outputs": []
    },
    {
      "cell_type": "code",
      "metadata": {
        "id": "CQhs8igT6k6v"
      },
      "source": [
        "inorm = data.iloc[:,1:].max(0)\n",
        "data.iloc[:,1:]=data.iloc[:,1:]"
      ],
      "execution_count": null,
      "outputs": []
    },
    {
      "cell_type": "markdown",
      "metadata": {
        "id": "OjFy2jRX8Tv_"
      },
      "source": [
        "* 하이퍼파라미터"
      ]
    },
    {
      "cell_type": "code",
      "metadata": {
        "id": "ekqssFRA6mmx"
      },
      "source": [
        "device = torch.device(\"cuda:0\") # GPU 사용\n",
        "target_n = 21 # 맞춰야하는 품목/품종의 수\n",
        "learning_rate = 5e-4 # 학습률\n",
        "BATCH_SIZE = 128 # 배치사이즈\n",
        "EPOCHS = 50 # 총 eopochs\n",
        "teacher_forcing = False # 교사강요 설정\n",
        "n_layers = 3 # rnn레이어 층\n",
        "dropout = 0.2 # 드롭아웃\n",
        "window_size = 28 # 인코더 시퀀스 길이\n",
        "future_size = 28 # 디코더 시퀀스 길이\n",
        "hidden_dim = 128 # rnn 히든차원\n",
        "save_path = f'./content/drive/MyDrive/Colab Notebooks/농산물/best_model.pt' # 모델 저장 경로\n"
      ],
      "execution_count": null,
      "outputs": []
    },
    {
      "cell_type": "markdown",
      "metadata": {
        "id": "DpEOcZ-G8r1Y"
      },
      "source": [
        "* 전처리\n",
        "  * 시계열 학습이 가능한 형태로 전처리. 과거 28일의 변화를 보고 미래 28일을 예측"
      ]
    },
    {
      "cell_type": "code",
      "metadata": {
        "id": "3hlZc09A8Yl5"
      },
      "source": [
        "x_data = []\n",
        "y_data = []\n",
        "for i in range(data.shape[0]-window_size-future_size):\n",
        "    x = data.iloc[i:i+window_size, 1:].to_numpy()\n",
        "    y = data.iloc[i+window_size:i+window_size+future_size, 3::2].to_numpy()\n",
        "    y_0 = np.zeros([1, y.shape[1]]) # 디코더 첫 입력값 추가\n",
        "    x_data.append(x)\n",
        "    y_data.append(np.concatenate([y_0, y], axis=0))\n",
        "x_data = np.array(x_data)\n",
        "y_data = np.array(y_data)"
      ],
      "execution_count": null,
      "outputs": []
    },
    {
      "cell_type": "code",
      "metadata": {
        "colab": {
          "base_uri": "https://localhost:8080/"
        },
        "id": "8EbzPxFu9MHf",
        "outputId": "36a78ffb-6ea8-418f-a7e2-c2f77fac3d98"
      },
      "source": [
        "x_data.shape, y_data.shape"
      ],
      "execution_count": null,
      "outputs": [
        {
          "output_type": "execute_result",
          "data": {
            "text/plain": [
              "((1677, 28, 43), (1677, 29, 21))"
            ]
          },
          "metadata": {},
          "execution_count": 12
        }
      ]
    },
    {
      "cell_type": "code",
      "metadata": {
        "id": "EpDEuF0q9RFo"
      },
      "source": [
        "train_test_split = 1\n",
        "x_train = x_data[:-train_test_split-future_size]\n",
        "y_train = y_data[:-train_test_split-future_size]\n",
        "x_val = x_data[-train_test_split:]\n",
        "y_val = y_data[-train_test_split:]"
      ],
      "execution_count": null,
      "outputs": []
    },
    {
      "cell_type": "code",
      "metadata": {
        "colab": {
          "base_uri": "https://localhost:8080/"
        },
        "id": "4JHeEbQC_83t",
        "outputId": "f806d329-d5e4-43ee-bc5b-df461a2f2db6"
      },
      "source": [
        "x_train.shape, y_train.shape, x_val.shape, y_val.shape"
      ],
      "execution_count": null,
      "outputs": [
        {
          "output_type": "execute_result",
          "data": {
            "text/plain": [
              "((1648, 28, 43), (1648, 29, 21), (1, 28, 43), (1, 29, 21))"
            ]
          },
          "metadata": {},
          "execution_count": 14
        }
      ]
    },
    {
      "cell_type": "markdown",
      "metadata": {
        "id": "uasOEkGOQwQB"
      },
      "source": [
        "* 데이터셋 정의"
      ]
    },
    {
      "cell_type": "code",
      "metadata": {
        "id": "L436iI_3AYh7"
      },
      "source": [
        "class CustomDataset(Dataset):\n",
        "    def __init__(self, encoder_input, decoder_input): # 초기값지정\n",
        "        self.encoder_input = encoder_input\n",
        "        self.decoder_input = decoder_input\n",
        "        \n",
        "    def __len__(self): # 객체 길이 반환\n",
        "        return len(self.encoder_input)\n",
        "    \n",
        "    def __getitem__(self, i): # 위에서 길이 반환한 값을 encoder_input, decoder_input으로 반환\n",
        "        return {\n",
        "            'encoder_input' : torch.tensor(self.encoder_input[i], dtype=torch.float32),\n",
        "            'decoder_input' : torch.tensor(self.decoder_input[i], dtype=torch.float32)\n",
        "        }"
      ],
      "execution_count": null,
      "outputs": []
    },
    {
      "cell_type": "code",
      "metadata": {
        "colab": {
          "base_uri": "https://localhost:8080/"
        },
        "id": "8lBCNcwtCsVY",
        "outputId": "62e6f2b4-6174-4bcf-d5c4-9413ed47e592"
      },
      "source": [
        "train_dataset = CustomDataset(x_train, y_train)\n",
        "val_dataset = CustomDataset(x_val, y_val)\n",
        "\n",
        "train_dataloader = torch.utils.data.DataLoader(train_dataset, batch_size=BATCH_SIZE, num_workers=16, shuffle=True)\n",
        "val_dataloader = torch.utils.data.DataLoader(val_dataset, batch_size=BATCH_SIZE, num_workers=16, shuffle=False)"
      ],
      "execution_count": null,
      "outputs": [
        {
          "output_type": "stream",
          "name": "stderr",
          "text": [
            "/usr/local/lib/python3.7/dist-packages/torch/utils/data/dataloader.py:481: UserWarning: This DataLoader will create 16 worker processes in total. Our suggested max number of worker in current system is 2, which is smaller than what this DataLoader is going to create. Please be aware that excessive worker creation might get DataLoader running slow or even freeze, lower the worker number to avoid potential slowness/freeze if necessary.\n",
            "  cpuset_checked))\n"
          ]
        }
      ]
    },
    {
      "cell_type": "code",
      "metadata": {
        "colab": {
          "base_uri": "https://localhost:8080/"
        },
        "id": "w2rW1BG9FLaI",
        "outputId": "86a098aa-6e11-4298-eb08-9b494978fdf7"
      },
      "source": [
        "sample_batch = next(iter(train_dataloader))"
      ],
      "execution_count": null,
      "outputs": [
        {
          "output_type": "stream",
          "name": "stderr",
          "text": [
            "/usr/local/lib/python3.7/dist-packages/torch/utils/data/dataloader.py:481: UserWarning: This DataLoader will create 16 worker processes in total. Our suggested max number of worker in current system is 2, which is smaller than what this DataLoader is going to create. Please be aware that excessive worker creation might get DataLoader running slow or even freeze, lower the worker number to avoid potential slowness/freeze if necessary.\n",
            "  cpuset_checked))\n"
          ]
        }
      ]
    },
    {
      "cell_type": "code",
      "metadata": {
        "colab": {
          "base_uri": "https://localhost:8080/"
        },
        "id": "8sThr9IWFq0j",
        "outputId": "abc39ee7-1c2b-4337-aadc-ba1b8655c76b"
      },
      "source": [
        "sample_batch['encoder_input'].shape, sample_batch['decoder_input'].shape"
      ],
      "execution_count": null,
      "outputs": [
        {
          "output_type": "execute_result",
          "data": {
            "text/plain": [
              "(torch.Size([128, 28, 43]), torch.Size([128, 29, 21]))"
            ]
          },
          "metadata": {},
          "execution_count": 18
        }
      ]
    },
    {
      "cell_type": "markdown",
      "metadata": {
        "id": "iwfrINMdF2jP"
      },
      "source": [
        "* 모델\n",
        "  * Attention이 적용된 seq2seq모델\n",
        "  * 인코더와 디코더는 GPU사용"
      ]
    },
    {
      "cell_type": "code",
      "metadata": {
        "id": "-oJRe-AYFsOB"
      },
      "source": [
        "class Encoder(nn.Module):\n",
        "    def __init__(self, input_dim, hidden_dim, n_layers, dropout):\n",
        "        super().__init__()\n",
        "        self.n_layers = n_layers\n",
        "        \n",
        "        self.rnn = nn.GRU(input_dim, hidden_dim, n_layers, dropout=dropout)\n",
        "        self.dropout = nn.Dropout(dropout)\n",
        "\n",
        "    def forward(self, inp_seq):\n",
        "        inp_seq = inp_seq.permute(1,0,2)\n",
        "        outputs, hidden = self.rnn(inp_seq)\n",
        "        \n",
        "        return outputs, hidden"
      ],
      "execution_count": null,
      "outputs": []
    },
    {
      "cell_type": "code",
      "metadata": {
        "id": "cadOG-MIOzTn"
      },
      "source": [
        "class BahdanauAttention(nn.Module):\n",
        "    def __init__(self, dec_output_dim, units):\n",
        "        super(BahdanauAttention, self).__init__()\n",
        "        self.W1 = nn.Linear(dec_output_dim, units)\n",
        "        self.W2 = nn.Linear(dec_output_dim, units)\n",
        "        self.V = nn.Linear(dec_output_dim, 1)\n",
        "\n",
        "    def forward(self, hidden, enc_output):\n",
        "        query_with_time_axis = hidden.unsqueeze(1)\n",
        "        \n",
        "        score = self.V(torch.tanh(self.W1(query_with_time_axis) + self.W2(enc_output)))\n",
        "        \n",
        "        attention_weights = torch.softmax(score, axis=1)\n",
        "        \n",
        "        context_vector = attention_weights * enc_output\n",
        "        context_vector = torch.sum(context_vector, dim=1)\n",
        "\n",
        "        return context_vector, attention_weights"
      ],
      "execution_count": null,
      "outputs": []
    },
    {
      "cell_type": "code",
      "metadata": {
        "id": "KZp5fTjCO1zt"
      },
      "source": [
        "class Decoder(nn.Module):\n",
        "    def __init__(self, dec_feature_size, encoder_hidden_dim, output_dim, decoder_hidden_dim, n_layers, dropout, attention):\n",
        "        super().__init__()\n",
        "        self.output_dim = output_dim\n",
        "        self.decoder_hidden_dim = decoder_hidden_dim\n",
        "        self.n_layers = n_layers\n",
        "        self.attention = attention\n",
        "        \n",
        "        self.layer = nn.Linear(dec_feature_size, encoder_hidden_dim)\n",
        "        self.rnn = nn.GRU(encoder_hidden_dim*2, decoder_hidden_dim, n_layers, dropout=dropout)\n",
        "        self.fc_out = nn.Linear(hidden_dim, output_dim)\n",
        "        self.dropout = nn.Dropout(dropout)\n",
        "\n",
        "    def forward(self, enc_output, dec_input, hidden):\n",
        "        dec_input = self.layer(dec_input)\n",
        "        context_vector, attention_weights = self.attention(hidden, enc_output)\n",
        "        dec_input = torch.cat([torch.sum(context_vector, dim=0), dec_input], dim=1)\n",
        "        dec_input = dec_input.unsqueeze(0)\n",
        "        \n",
        "        output, hidden = self.rnn(dec_input, hidden)\n",
        "\n",
        "        prediction = self.fc_out(output.sum(0))\n",
        "        \n",
        "        return prediction, hidden"
      ],
      "execution_count": null,
      "outputs": []
    },
    {
      "cell_type": "code",
      "metadata": {
        "id": "pg_MUO1DO4XR"
      },
      "source": [
        "class Seq2Seq(nn.Module):\n",
        "    def __init__(self, encoder, decoder, attention):\n",
        "        super().__init__()\n",
        "        self.encoder = encoder\n",
        "        self.decoder = decoder\n",
        "        \n",
        "    def forward(self, encoder_input, decoder_input, teacher_forcing=False):\n",
        "        batch_size = decoder_input.size(0)\n",
        "        trg_len = decoder_input.size(1)\n",
        "        \n",
        "        outputs = torch.zeros(batch_size, trg_len-1, self.decoder.output_dim).to(device)\n",
        "        enc_output, hidden = self.encoder(encoder_input)\n",
        "        \n",
        "        dec_input = decoder_input[:, 0]\n",
        "        for t in range(1, trg_len):\n",
        "            output, hidden = self.decoder(enc_output, dec_input, hidden)\n",
        "            outputs[:, t-1] = output\n",
        "            if teacher_forcing == True:\n",
        "                dec_input = decoder_input[:, t]\n",
        "            else:\n",
        "                dec_input = output\n",
        "        \n",
        "        return outputs"
      ],
      "execution_count": null,
      "outputs": []
    },
    {
      "cell_type": "code",
      "metadata": {
        "id": "eEaPj_s9O8vT"
      },
      "source": [
        "encoder = Encoder(input_dim=x_data.shape[-1], hidden_dim=hidden_dim, n_layers=n_layers, dropout=dropout)\n",
        "attention = BahdanauAttention(dec_output_dim=hidden_dim, units=hidden_dim)\n",
        "decoder = Decoder(\n",
        "    dec_feature_size=target_n, encoder_hidden_dim=hidden_dim, output_dim=target_n,\n",
        "    decoder_hidden_dim=hidden_dim, n_layers=n_layers, dropout=dropout,\n",
        "    attention = attention\n",
        ")\n",
        "\n",
        "model = Seq2Seq(encoder, decoder, attention)\n",
        "model = model.to(device)"
      ],
      "execution_count": null,
      "outputs": []
    },
    {
      "cell_type": "markdown",
      "metadata": {
        "id": "7cxXZnmLHtti"
      },
      "source": [
        "* 평가 함수\n",
        "  * 평가를 위한 NMAE 정의"
      ]
    },
    {
      "cell_type": "code",
      "metadata": {
        "id": "x7cJjPEIFxyC"
      },
      "source": [
        "def my_custom_metric(pred, true):\n",
        "    pred = pred[:, [6, 13, 27]]\n",
        "    true = true[:, [6, 13, 27]]\n",
        "    target = torch.where(true!=0)\n",
        "    true = true[target]\n",
        "    pred = pred[target]\n",
        "    score = torch.mean(torch.abs((true-pred))/(true))\n",
        "    \n",
        "    return score"
      ],
      "execution_count": null,
      "outputs": []
    },
    {
      "cell_type": "markdown",
      "metadata": {
        "id": "oYxQCwI6HxKg"
      },
      "source": [
        "* 옵티마이저 및 손실함수"
      ]
    },
    {
      "cell_type": "code",
      "metadata": {
        "id": "zz2dhFd2F1Ky"
      },
      "source": [
        "optimizer = torch.optim.Adam(model.parameters(), lr=learning_rate)\n",
        "criterion = nn.L1Loss() # mae\n",
        "custom_metric = my_custom_metric"
      ],
      "execution_count": null,
      "outputs": []
    },
    {
      "cell_type": "markdown",
      "metadata": {
        "id": "yvebY6foH2TY"
      },
      "source": [
        "* 학습정의"
      ]
    },
    {
      "cell_type": "code",
      "metadata": {
        "id": "VjKFthNvHzDb"
      },
      "source": [
        "def train_step(batch_item, epoch, batch, training, teacher_forcing):\n",
        "    encoder_input = batch_item['encoder_input'].to(device)\n",
        "    decoder_input = batch_item['decoder_input'].to(device)\n",
        "    if training is True:\n",
        "        model.train()\n",
        "        optimizer.zero_grad()\n",
        "        with torch.cuda.amp.autocast():\n",
        "            output = model(encoder_input, decoder_input, teacher_forcing)\n",
        "            loss = criterion(output, decoder_input[:,1:])\n",
        "            score = custom_metric(output, decoder_input[:,1:])\n",
        "        loss.backward()\n",
        "        optimizer.step()\n",
        "        \n",
        "        return loss, score\n",
        "    else:\n",
        "        model.eval()\n",
        "        with torch.no_grad():\n",
        "            output = model(encoder_input, decoder_input, False)\n",
        "            loss = criterion(output, decoder_input[:,1:])\n",
        "            score = custom_metric(output, decoder_input[:,1:])\n",
        "        return loss, score"
      ],
      "execution_count": null,
      "outputs": []
    },
    {
      "cell_type": "code",
      "metadata": {
        "colab": {
          "base_uri": "https://localhost:8080/"
        },
        "id": "jA_rqLE_itP6",
        "outputId": "59abf27a-cfd8-45ef-d1d8-f89b2bc62fe9"
      },
      "source": [
        "train_step"
      ],
      "execution_count": null,
      "outputs": [
        {
          "output_type": "execute_result",
          "data": {
            "text/plain": [
              "<function __main__.train_step>"
            ]
          },
          "metadata": {},
          "execution_count": 33
        }
      ]
    },
    {
      "cell_type": "markdown",
      "metadata": {
        "id": "r145arAzH69T"
      },
      "source": [
        "* 학습"
      ]
    },
    {
      "cell_type": "code",
      "metadata": {
        "colab": {
          "base_uri": "https://localhost:8080/",
          "height": 471
        },
        "id": "LjB6b8yDH5x5",
        "outputId": "acd0a761-e51e-4be6-9210-cf46545f2a57"
      },
      "source": [
        "loss_plot, val_loss_plot = [], []\n",
        "score_plot, val_score_plot = [], []\n",
        "\n",
        "for epoch in range(EPOCHS):\n",
        "    total_loss, total_val_loss = 0, 0\n",
        "    total_score, total_val_score = 0, 0\n",
        "    \n",
        "    tqdm_dataset = tqdm(enumerate(train_dataloader))\n",
        "    training = True\n",
        "    for batch, batch_item in tqdm_dataset:\n",
        "        batch_loss, batch_score = train_step(batch_item, epoch, batch, training, teacher_forcing)\n",
        "        total_loss += batch_loss\n",
        "        total_score += batch_score\n",
        "        \n",
        "        tqdm_dataset.set_postfix({\n",
        "            'Epoch': epoch + 1,\n",
        "            'Loss': '{:06f}'.format(batch_loss.item()),\n",
        "            'Total Loss' : '{:06f}'.format(total_loss/(batch+1)),\n",
        "            'Score': '{:06f}'.format(batch_score.item()),\n",
        "            'Total Score' : '{:06f}'.format(total_score/(batch+1)),\n",
        "        })\n",
        "    loss_plot.append(total_loss/(batch+1))\n",
        "    score_plot.append(total_score/(batch+1))\n",
        "    \n",
        "    tqdm_dataset = tqdm(enumerate(val_dataloader))\n",
        "    training = False\n",
        "    for batch, batch_item in tqdm_dataset:\n",
        "        batch_loss, batch_val_score = train_step(batch_item, epoch, batch, training, teacher_forcing)\n",
        "        total_val_loss += batch_loss\n",
        "        total_val_score += batch_val_score\n",
        "        \n",
        "        tqdm_dataset.set_postfix({\n",
        "            'Epoch': epoch + 1,\n",
        "            'Val Loss': '{:06f}'.format(batch_loss.item()),\n",
        "            'Total Val Loss' : '{:06f}'.format(total_val_loss/(batch+1)),\n",
        "            'Val Score': '{:06f}'.format(batch_val_score.item()),\n",
        "            'Total Val Score' : '{:06f}'.format(total_val_score/(batch+1)),\n",
        "        })\n",
        "    val_loss_plot.append(total_val_loss/(batch+1))\n",
        "    val_score_plot.append(total_val_score/(batch+1))\n",
        "    \n",
        "    if np.min(val_loss_plot) == val_loss_plot[-1]:\n",
        "        torch.save(model, save_path)"
      ],
      "execution_count": null,
      "outputs": [
        {
          "output_type": "stream",
          "name": "stderr",
          "text": [
            "/usr/local/lib/python3.7/dist-packages/torch/utils/data/dataloader.py:481: UserWarning: This DataLoader will create 16 worker processes in total. Our suggested max number of worker in current system is 2, which is smaller than what this DataLoader is going to create. Please be aware that excessive worker creation might get DataLoader running slow or even freeze, lower the worker number to avoid potential slowness/freeze if necessary.\n",
            "  cpuset_checked))\n",
            "12it [00:04,  2.95it/s, Epoch=1, Loss=000nan, Total Loss=000nan, Score=000nan, Total Score=000nan]\n"
          ]
        },
        {
          "output_type": "error",
          "ename": "KeyboardInterrupt",
          "evalue": "ignored",
          "traceback": [
            "\u001b[0;31m---------------------------------------------------------------------------\u001b[0m",
            "\u001b[0;31mKeyboardInterrupt\u001b[0m                         Traceback (most recent call last)",
            "\u001b[0;32m<ipython-input-29-dce0362eb816>\u001b[0m in \u001b[0;36m<module>\u001b[0;34m()\u001b[0m\n\u001b[1;32m      9\u001b[0m     \u001b[0mtraining\u001b[0m \u001b[0;34m=\u001b[0m \u001b[0;32mTrue\u001b[0m\u001b[0;34m\u001b[0m\u001b[0;34m\u001b[0m\u001b[0m\n\u001b[1;32m     10\u001b[0m     \u001b[0;32mfor\u001b[0m \u001b[0mbatch\u001b[0m\u001b[0;34m,\u001b[0m \u001b[0mbatch_item\u001b[0m \u001b[0;32min\u001b[0m \u001b[0mtqdm_dataset\u001b[0m\u001b[0;34m:\u001b[0m\u001b[0;34m\u001b[0m\u001b[0;34m\u001b[0m\u001b[0m\n\u001b[0;32m---> 11\u001b[0;31m         \u001b[0mbatch_loss\u001b[0m\u001b[0;34m,\u001b[0m \u001b[0mbatch_score\u001b[0m \u001b[0;34m=\u001b[0m \u001b[0mtrain_step\u001b[0m\u001b[0;34m(\u001b[0m\u001b[0mbatch_item\u001b[0m\u001b[0;34m,\u001b[0m \u001b[0mepoch\u001b[0m\u001b[0;34m,\u001b[0m \u001b[0mbatch\u001b[0m\u001b[0;34m,\u001b[0m \u001b[0mtraining\u001b[0m\u001b[0;34m,\u001b[0m \u001b[0mteacher_forcing\u001b[0m\u001b[0;34m)\u001b[0m\u001b[0;34m\u001b[0m\u001b[0;34m\u001b[0m\u001b[0m\n\u001b[0m\u001b[1;32m     12\u001b[0m         \u001b[0mtotal_loss\u001b[0m \u001b[0;34m+=\u001b[0m \u001b[0mbatch_loss\u001b[0m\u001b[0;34m\u001b[0m\u001b[0;34m\u001b[0m\u001b[0m\n\u001b[1;32m     13\u001b[0m         \u001b[0mtotal_score\u001b[0m \u001b[0;34m+=\u001b[0m \u001b[0mbatch_score\u001b[0m\u001b[0;34m\u001b[0m\u001b[0;34m\u001b[0m\u001b[0m\n",
            "\u001b[0;32m<ipython-input-27-90aa6158e09c>\u001b[0m in \u001b[0;36mtrain_step\u001b[0;34m(batch_item, epoch, batch, training, teacher_forcing)\u001b[0m\n\u001b[1;32m      8\u001b[0m             \u001b[0moutput\u001b[0m \u001b[0;34m=\u001b[0m \u001b[0mmodel\u001b[0m\u001b[0;34m(\u001b[0m\u001b[0mencoder_input\u001b[0m\u001b[0;34m,\u001b[0m \u001b[0mdecoder_input\u001b[0m\u001b[0;34m,\u001b[0m \u001b[0mteacher_forcing\u001b[0m\u001b[0;34m)\u001b[0m\u001b[0;34m\u001b[0m\u001b[0;34m\u001b[0m\u001b[0m\n\u001b[1;32m      9\u001b[0m             \u001b[0mloss\u001b[0m \u001b[0;34m=\u001b[0m \u001b[0mcriterion\u001b[0m\u001b[0;34m(\u001b[0m\u001b[0moutput\u001b[0m\u001b[0;34m,\u001b[0m \u001b[0mdecoder_input\u001b[0m\u001b[0;34m[\u001b[0m\u001b[0;34m:\u001b[0m\u001b[0;34m,\u001b[0m\u001b[0;36m1\u001b[0m\u001b[0;34m:\u001b[0m\u001b[0;34m]\u001b[0m\u001b[0;34m)\u001b[0m\u001b[0;34m\u001b[0m\u001b[0;34m\u001b[0m\u001b[0m\n\u001b[0;32m---> 10\u001b[0;31m             \u001b[0mscore\u001b[0m \u001b[0;34m=\u001b[0m \u001b[0mcustom_metric\u001b[0m\u001b[0;34m(\u001b[0m\u001b[0moutput\u001b[0m\u001b[0;34m,\u001b[0m \u001b[0mdecoder_input\u001b[0m\u001b[0;34m[\u001b[0m\u001b[0;34m:\u001b[0m\u001b[0;34m,\u001b[0m\u001b[0;36m1\u001b[0m\u001b[0;34m:\u001b[0m\u001b[0;34m]\u001b[0m\u001b[0;34m)\u001b[0m\u001b[0;34m\u001b[0m\u001b[0;34m\u001b[0m\u001b[0m\n\u001b[0m\u001b[1;32m     11\u001b[0m         \u001b[0mloss\u001b[0m\u001b[0;34m.\u001b[0m\u001b[0mbackward\u001b[0m\u001b[0;34m(\u001b[0m\u001b[0;34m)\u001b[0m\u001b[0;34m\u001b[0m\u001b[0;34m\u001b[0m\u001b[0m\n\u001b[1;32m     12\u001b[0m         \u001b[0moptimizer\u001b[0m\u001b[0;34m.\u001b[0m\u001b[0mstep\u001b[0m\u001b[0;34m(\u001b[0m\u001b[0;34m)\u001b[0m\u001b[0;34m\u001b[0m\u001b[0;34m\u001b[0m\u001b[0m\n",
            "\u001b[0;32m<ipython-input-25-87ff44eee3a5>\u001b[0m in \u001b[0;36mmy_custom_metric\u001b[0;34m(pred, true)\u001b[0m\n\u001b[1;32m      1\u001b[0m \u001b[0;32mdef\u001b[0m \u001b[0mmy_custom_metric\u001b[0m\u001b[0;34m(\u001b[0m\u001b[0mpred\u001b[0m\u001b[0;34m,\u001b[0m \u001b[0mtrue\u001b[0m\u001b[0;34m)\u001b[0m\u001b[0;34m:\u001b[0m\u001b[0;34m\u001b[0m\u001b[0;34m\u001b[0m\u001b[0m\n\u001b[0;32m----> 2\u001b[0;31m     \u001b[0mpred\u001b[0m \u001b[0;34m=\u001b[0m \u001b[0mpred\u001b[0m\u001b[0;34m[\u001b[0m\u001b[0;34m:\u001b[0m\u001b[0;34m,\u001b[0m \u001b[0;34m[\u001b[0m\u001b[0;36m6\u001b[0m\u001b[0;34m,\u001b[0m \u001b[0;36m13\u001b[0m\u001b[0;34m,\u001b[0m \u001b[0;36m27\u001b[0m\u001b[0;34m]\u001b[0m\u001b[0;34m]\u001b[0m\u001b[0;34m\u001b[0m\u001b[0;34m\u001b[0m\u001b[0m\n\u001b[0m\u001b[1;32m      3\u001b[0m     \u001b[0mtrue\u001b[0m \u001b[0;34m=\u001b[0m \u001b[0mtrue\u001b[0m\u001b[0;34m[\u001b[0m\u001b[0;34m:\u001b[0m\u001b[0;34m,\u001b[0m \u001b[0;34m[\u001b[0m\u001b[0;36m6\u001b[0m\u001b[0;34m,\u001b[0m \u001b[0;36m13\u001b[0m\u001b[0;34m,\u001b[0m \u001b[0;36m27\u001b[0m\u001b[0;34m]\u001b[0m\u001b[0;34m]\u001b[0m\u001b[0;34m\u001b[0m\u001b[0;34m\u001b[0m\u001b[0m\n\u001b[1;32m      4\u001b[0m     \u001b[0mtarget\u001b[0m \u001b[0;34m=\u001b[0m \u001b[0mtorch\u001b[0m\u001b[0;34m.\u001b[0m\u001b[0mwhere\u001b[0m\u001b[0;34m(\u001b[0m\u001b[0mtrue\u001b[0m\u001b[0;34m!=\u001b[0m\u001b[0;36m0\u001b[0m\u001b[0;34m)\u001b[0m\u001b[0;34m\u001b[0m\u001b[0;34m\u001b[0m\u001b[0m\n\u001b[1;32m      5\u001b[0m     \u001b[0mtrue\u001b[0m \u001b[0;34m=\u001b[0m \u001b[0mtrue\u001b[0m\u001b[0;34m[\u001b[0m\u001b[0mtarget\u001b[0m\u001b[0;34m]\u001b[0m\u001b[0;34m\u001b[0m\u001b[0;34m\u001b[0m\u001b[0m\n",
            "\u001b[0;31mKeyboardInterrupt\u001b[0m: "
          ]
        }
      ]
    },
    {
      "cell_type": "markdown",
      "metadata": {
        "id": "-nzXH7MdIBuG"
      },
      "source": [
        "* 학습결과 "
      ]
    },
    {
      "cell_type": "code",
      "metadata": {
        "colab": {
          "base_uri": "https://localhost:8080/",
          "height": 573
        },
        "id": "df68JmLKH90N",
        "outputId": "2bd49c35-0fcf-426d-f4a1-fa9c775eedf2"
      },
      "source": [
        "plt.plot(loss_plot, label='train_loss')\n",
        "plt.plot(val_loss_plot, label='val_loss')\n",
        "plt.xlabel('epoch')\n",
        "plt.ylabel('loss(mae)')\n",
        "plt.title('loss_plot')\n",
        "plt.legend()\n",
        "plt.show()\n",
        "\n",
        "plt.plot(score_plot, label='train_score')\n",
        "plt.plot(val_score_plot, label='val_score')\n",
        "plt.xlabel('epoch')\n",
        "plt.ylabel('score(nmae)')\n",
        "plt.title('score_plot')\n",
        "plt.legend()\n",
        "plt.show()"
      ],
      "execution_count": null,
      "outputs": [
        {
          "output_type": "display_data",
          "data": {
            "image/png": "[encoded data removed]",
            "text/plain": [
              "<Figure size 432x288 with 1 Axes>"
            ]
          },
          "metadata": {
            "needs_background": "light"
          }
        },
        {
          "output_type": "display_data",
          "data": {
            "image/png": "[encoded data removed]",
            "text/plain": [
              "<Figure size 432x288 with 1 Axes>"
            ]
          },
          "metadata": {
            "needs_background": "light"
          }
        }
      ]
    },
    {
      "cell_type": "markdown",
      "metadata": {
        "id": "IimP8maVIGUY"
      },
      "source": [
        "* 베스트 모델 복원"
      ]
    },
    {
      "cell_type": "code",
      "metadata": {
        "colab": {
          "base_uri": "https://localhost:8080/",
          "height": 336
        },
        "id": "2hhX3OLSIHlB",
        "outputId": "0adfba6a-35c7-4606-abe8-35ca2668b077"
      },
      "source": [
        "model = torch.load(save_path)\n",
        "model = model.to(device)"
      ],
      "execution_count": null,
      "outputs": [
        {
          "output_type": "error",
          "ename": "IsADirectoryError",
          "evalue": "ignored",
          "traceback": [
            "\u001b[0;31m---------------------------------------------------------------------------\u001b[0m",
            "\u001b[0;31mIsADirectoryError\u001b[0m                         Traceback (most recent call last)",
            "\u001b[0;32m<ipython-input-23-ef8279750907>\u001b[0m in \u001b[0;36m<module>\u001b[0;34m()\u001b[0m\n\u001b[0;32m----> 1\u001b[0;31m \u001b[0mmodel\u001b[0m \u001b[0;34m=\u001b[0m \u001b[0mtorch\u001b[0m\u001b[0;34m.\u001b[0m\u001b[0mload\u001b[0m\u001b[0;34m(\u001b[0m\u001b[0msave_path\u001b[0m\u001b[0;34m)\u001b[0m\u001b[0;34m\u001b[0m\u001b[0;34m\u001b[0m\u001b[0m\n\u001b[0m\u001b[1;32m      2\u001b[0m \u001b[0mmodel\u001b[0m \u001b[0;34m=\u001b[0m \u001b[0mmodel\u001b[0m\u001b[0;34m.\u001b[0m\u001b[0mto\u001b[0m\u001b[0;34m(\u001b[0m\u001b[0mdevice\u001b[0m\u001b[0;34m)\u001b[0m\u001b[0;34m\u001b[0m\u001b[0;34m\u001b[0m\u001b[0m\n",
            "\u001b[0;32m/usr/local/lib/python3.7/dist-packages/torch/serialization.py\u001b[0m in \u001b[0;36mload\u001b[0;34m(f, map_location, pickle_module, **pickle_load_args)\u001b[0m\n\u001b[1;32m    592\u001b[0m         \u001b[0mpickle_load_args\u001b[0m\u001b[0;34m[\u001b[0m\u001b[0;34m'encoding'\u001b[0m\u001b[0;34m]\u001b[0m \u001b[0;34m=\u001b[0m \u001b[0;34m'utf-8'\u001b[0m\u001b[0;34m\u001b[0m\u001b[0;34m\u001b[0m\u001b[0m\n\u001b[1;32m    593\u001b[0m \u001b[0;34m\u001b[0m\u001b[0m\n\u001b[0;32m--> 594\u001b[0;31m     \u001b[0;32mwith\u001b[0m \u001b[0m_open_file_like\u001b[0m\u001b[0;34m(\u001b[0m\u001b[0mf\u001b[0m\u001b[0;34m,\u001b[0m \u001b[0;34m'rb'\u001b[0m\u001b[0;34m)\u001b[0m \u001b[0;32mas\u001b[0m \u001b[0mopened_file\u001b[0m\u001b[0;34m:\u001b[0m\u001b[0;34m\u001b[0m\u001b[0;34m\u001b[0m\u001b[0m\n\u001b[0m\u001b[1;32m    595\u001b[0m         \u001b[0;32mif\u001b[0m \u001b[0m_is_zipfile\u001b[0m\u001b[0;34m(\u001b[0m\u001b[0mopened_file\u001b[0m\u001b[0;34m)\u001b[0m\u001b[0;34m:\u001b[0m\u001b[0;34m\u001b[0m\u001b[0;34m\u001b[0m\u001b[0m\n\u001b[1;32m    596\u001b[0m             \u001b[0;31m# The zipfile reader is going to advance the current file position.\u001b[0m\u001b[0;34m\u001b[0m\u001b[0;34m\u001b[0m\u001b[0;34m\u001b[0m\u001b[0m\n",
            "\u001b[0;32m/usr/local/lib/python3.7/dist-packages/torch/serialization.py\u001b[0m in \u001b[0;36m_open_file_like\u001b[0;34m(name_or_buffer, mode)\u001b[0m\n\u001b[1;32m    228\u001b[0m \u001b[0;32mdef\u001b[0m \u001b[0m_open_file_like\u001b[0m\u001b[0;34m(\u001b[0m\u001b[0mname_or_buffer\u001b[0m\u001b[0;34m,\u001b[0m \u001b[0mmode\u001b[0m\u001b[0;34m)\u001b[0m\u001b[0;34m:\u001b[0m\u001b[0;34m\u001b[0m\u001b[0;34m\u001b[0m\u001b[0m\n\u001b[1;32m    229\u001b[0m     \u001b[0;32mif\u001b[0m \u001b[0m_is_path\u001b[0m\u001b[0;34m(\u001b[0m\u001b[0mname_or_buffer\u001b[0m\u001b[0;34m)\u001b[0m\u001b[0;34m:\u001b[0m\u001b[0;34m\u001b[0m\u001b[0;34m\u001b[0m\u001b[0m\n\u001b[0;32m--> 230\u001b[0;31m         \u001b[0;32mreturn\u001b[0m \u001b[0m_open_file\u001b[0m\u001b[0;34m(\u001b[0m\u001b[0mname_or_buffer\u001b[0m\u001b[0;34m,\u001b[0m \u001b[0mmode\u001b[0m\u001b[0;34m)\u001b[0m\u001b[0;34m\u001b[0m\u001b[0;34m\u001b[0m\u001b[0m\n\u001b[0m\u001b[1;32m    231\u001b[0m     \u001b[0;32melse\u001b[0m\u001b[0;34m:\u001b[0m\u001b[0;34m\u001b[0m\u001b[0;34m\u001b[0m\u001b[0m\n\u001b[1;32m    232\u001b[0m         \u001b[0;32mif\u001b[0m \u001b[0;34m'w'\u001b[0m \u001b[0;32min\u001b[0m \u001b[0mmode\u001b[0m\u001b[0;34m:\u001b[0m\u001b[0;34m\u001b[0m\u001b[0;34m\u001b[0m\u001b[0m\n",
            "\u001b[0;32m/usr/local/lib/python3.7/dist-packages/torch/serialization.py\u001b[0m in \u001b[0;36m__init__\u001b[0;34m(self, name, mode)\u001b[0m\n\u001b[1;32m    209\u001b[0m \u001b[0;32mclass\u001b[0m \u001b[0m_open_file\u001b[0m\u001b[0;34m(\u001b[0m\u001b[0m_opener\u001b[0m\u001b[0;34m)\u001b[0m\u001b[0;34m:\u001b[0m\u001b[0;34m\u001b[0m\u001b[0;34m\u001b[0m\u001b[0m\n\u001b[1;32m    210\u001b[0m     \u001b[0;32mdef\u001b[0m \u001b[0m__init__\u001b[0m\u001b[0;34m(\u001b[0m\u001b[0mself\u001b[0m\u001b[0;34m,\u001b[0m \u001b[0mname\u001b[0m\u001b[0;34m,\u001b[0m \u001b[0mmode\u001b[0m\u001b[0;34m)\u001b[0m\u001b[0;34m:\u001b[0m\u001b[0;34m\u001b[0m\u001b[0;34m\u001b[0m\u001b[0m\n\u001b[0;32m--> 211\u001b[0;31m         \u001b[0msuper\u001b[0m\u001b[0;34m(\u001b[0m\u001b[0m_open_file\u001b[0m\u001b[0;34m,\u001b[0m \u001b[0mself\u001b[0m\u001b[0;34m)\u001b[0m\u001b[0;34m.\u001b[0m\u001b[0m__init__\u001b[0m\u001b[0;34m(\u001b[0m\u001b[0mopen\u001b[0m\u001b[0;34m(\u001b[0m\u001b[0mname\u001b[0m\u001b[0;34m,\u001b[0m \u001b[0mmode\u001b[0m\u001b[0;34m)\u001b[0m\u001b[0;34m)\u001b[0m\u001b[0;34m\u001b[0m\u001b[0;34m\u001b[0m\u001b[0m\n\u001b[0m\u001b[1;32m    212\u001b[0m \u001b[0;34m\u001b[0m\u001b[0m\n\u001b[1;32m    213\u001b[0m     \u001b[0;32mdef\u001b[0m \u001b[0m__exit__\u001b[0m\u001b[0;34m(\u001b[0m\u001b[0mself\u001b[0m\u001b[0;34m,\u001b[0m \u001b[0;34m*\u001b[0m\u001b[0margs\u001b[0m\u001b[0;34m)\u001b[0m\u001b[0;34m:\u001b[0m\u001b[0;34m\u001b[0m\u001b[0;34m\u001b[0m\u001b[0m\n",
            "\u001b[0;31mIsADirectoryError\u001b[0m: [Errno 21] Is a directory: '/content'"
          ]
        }
      ]
    },
    {
      "cell_type": "markdown",
      "metadata": {
        "id": "wPdqHnjvIJRi"
      },
      "source": [
        "* 추론 및 제출"
      ]
    },
    {
      "cell_type": "code",
      "metadata": {
        "id": "0ueFndukIKm3"
      },
      "source": [
        "def predict(encoder_input):\n",
        "    model.train()\n",
        "    encoder_input = encoder_input.to(device)\n",
        "    decoder_input = torch.zeros([1, future_size+1, target_n], dtype=torch.float32).to(device)\n",
        "    with torch.no_grad():\n",
        "        output = model(encoder_input, decoder_input, False)\n",
        "    return output.cpu()"
      ],
      "execution_count": null,
      "outputs": []
    },
    {
      "cell_type": "code",
      "metadata": {
        "id": "wgHAwMGTINpB"
      },
      "source": [
        "submission = pd.read_csv('/content/drive/MyDrive/Colab Notebooks/농산물/sample_submission.csv')"
      ],
      "execution_count": null,
      "outputs": []
    },
    {
      "cell_type": "code",
      "metadata": {
        "id": "xymTZbG0IrjE"
      },
      "source": [
        "public_date_list = submission[submission['예측대상일자'].str.contains('2020')]['예측대상일자'].str.split('+').str[0].unique()"
      ],
      "execution_count": null,
      "outputs": []
    },
    {
      "cell_type": "code",
      "metadata": {
        "id": "Gzx0qTy1ItjC"
      },
      "source": [
        "outputs = []\n",
        "troch_norm = torch.tensor(norm.to_numpy()[2::2])\n",
        "for date in public_date_list:\n",
        "    test_df = pd.read_csv(f'/content/drive/MyDrive/Colab Notebooks/농산물/public_data/test_files/test_{date}.csv')\n",
        "    data = pd.read_csv('./data/public_data/train.csv')\n",
        "    data = pd.concat([data, test_df]).iloc[-window_size:]\n",
        "    \n",
        "    week_day_map = {}\n",
        "    for i, d in enumerate(data['요일'].unique()):\n",
        "        week_day_map[d] = i\n",
        "    data['요일'] = data['요일'].map(week_day_map)\n",
        "    data = data.iloc[:,1:]/norm\n",
        "    \n",
        "    encoder_input = torch.tensor(data.to_numpy(), dtype=torch.float32)\n",
        "    encoder_input = encoder_input.unsqueeze(0)\n",
        "    output = predict(encoder_input)*troch_norm\n",
        "    \n",
        "    idx = submission[submission['예측대상일자'].str.contains(date)].index\n",
        "    submission.loc[idx, '배추_가격(원/kg)':] = output[0,[6,13,27]].numpy()"
      ],
      "execution_count": null,
      "outputs": []
    },
    {
      "cell_type": "code",
      "metadata": {
        "id": "-kz8nZC8Iv3t"
      },
      "source": [
        "submission.to_csv('/content/drive/MyDrive/Colab Notebooks/농산물/dacon_baseline.csv', index=False)"
      ],
      "execution_count": null,
      "outputs": []
    }
  ]
}